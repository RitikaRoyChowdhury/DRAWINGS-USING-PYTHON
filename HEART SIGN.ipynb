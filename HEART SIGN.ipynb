{
 "cells": [
  {
   "cell_type": "code",
   "execution_count": 1,
   "id": "188acebd",
   "metadata": {},
   "outputs": [],
   "source": [
    "import turtle as t\n",
    "t.pensize(5)\n",
    "t.speed(1)\n",
    "t.color('black')\n",
    "t.begin_fill()\n",
    "t.fillcolor('red')\n",
    "t.left(150)\n",
    "t.forward(180)\n",
    "t.circle(-90,180)\n",
    "t.setheading(60)\n",
    "t.circle(-90,180)\n",
    "t.forward(180)\n",
    "t.hideturtle()\n",
    "t.end_fill()\n",
    "t.done()"
   ]
  }
 ],
 "metadata": {
  "kernelspec": {
   "display_name": "Python 3 (ipykernel)",
   "language": "python",
   "name": "python3"
  },
  "language_info": {
   "codemirror_mode": {
    "name": "ipython",
    "version": 3
   },
   "file_extension": ".py",
   "mimetype": "text/x-python",
   "name": "python",
   "nbconvert_exporter": "python",
   "pygments_lexer": "ipython3",
   "version": "3.9.7"
  }
 },
 "nbformat": 4,
 "nbformat_minor": 5
}
